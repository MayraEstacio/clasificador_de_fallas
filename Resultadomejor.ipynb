{
  "cells": [
    {
      "cell_type": "code",
      "execution_count": null,
      "metadata": {
        "id": "PhXFtkqrvzOx"
      },
      "outputs": [],
      "source": [
        "\n",
        "import pandas\n",
        "from keras.models import Sequential\n",
        "from keras.layers import Dense\n",
        "from keras.wrappers.scikit_learn import KerasClassifier\n",
        "from keras.utils import np_utils\n",
        "from sklearn.model_selection import cross_val_score\n",
        "from sklearn.model_selection import KFold\n",
        "from sklearn.preprocessing import LabelEncoder\n",
        "\n",
        "dataframe = pandas.read_csv(\"modificados_PU.csv\", header=None)\n",
        "dataset = dataframe.values\n",
        "X = dataset[:,0:14].astype(float)\n",
        "Y = dataset[:,14]\n",
        "encoder = LabelEncoder()\n",
        "encoder.fit(Y)\n",
        "encoded_Y = encoder.transform(Y)\n",
        "dummy_y = np_utils.to_categorical(encoded_Y)\n",
        "\n",
        "def baseline_model():\n",
        " model = Sequential()\n",
        " model.add(Dense(21, input_dim=14, activation='relu'))\n",
        " model.add(Dense(14, activation='relu'))\n",
        " model.add(Dense(7, activation='sigmoid'))\n",
        " model.add(Dense(5, activation='softmax'))\n",
        " model.compile(loss='categorical_crossentropy', optimizer='adam', metrics=['accuracy'])\n",
        " return model\n",
        "\n",
        "estimator = KerasClassifier(build_fn=baseline_model, epochs=50, batch_size=5, verbose=0)\n",
        "kfold = KFold(n_splits=10, shuffle=True)\n",
        "results = cross_val_score(estimator, X, dummy_y, cv=kfold)\n",
        "print(\"Baseline: %.2f%% (%.2f%%)\" % (results.mean()*100, results.std()*100))\n",
        "\n",
        "estimator.fit(X, Y)\n",
        "dataframe = pandas.read_csv(\"validacion.csv\", header=None)\n",
        "dataset = dataframe.values\n",
        "Z = dataset[:,0:14].astype(float)\n",
        "predictions = estimator.predict(Z)\n",
        "print(predictions)"
      ]
    },
    {
      "cell_type": "code",
      "execution_count": null,
      "metadata": {
        "id": "HH2W-hSdv89s"
      },
      "outputs": [],
      "source": []
    },
    {
      "cell_type": "code",
      "execution_count": null,
      "metadata": {
        "id": "xapXjtFWwd5K"
      },
      "outputs": [],
      "source": []
    },
    {
      "cell_type": "code",
      "execution_count": null,
      "metadata": {
        "id": "4k827BKRYOjd"
      },
      "outputs": [],
      "source": []
    },
    {
      "cell_type": "code",
      "execution_count": null,
      "metadata": {
        "id": "ahM7xRm-5VCG"
      },
      "outputs": [],
      "source": []
    },
    {
      "cell_type": "code",
      "execution_count": null,
      "metadata": {
        "id": "U4hTkV2GbBs-"
      },
      "outputs": [],
      "source": []
    }
  ],
  "metadata": {
    "colab": {
      "provenance": []
    },
    "kernelspec": {
      "display_name": "Python 3",
      "name": "python3"
    },
    "language_info": {
      "name": "python"
    }
  },
  "nbformat": 4,
  "nbformat_minor": 0
}